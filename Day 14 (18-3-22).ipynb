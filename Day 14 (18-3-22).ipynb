{
 "cells": [
  {
   "cell_type": "code",
   "execution_count": 2,
   "id": "db410096",
   "metadata": {},
   "outputs": [],
   "source": [
    "# sqaure of sqaures\n",
    "import turtle\n",
    "t = turtle.Turtle()\n",
    "t.speed(200)\n",
    "t.pencolor(\"green\")\n",
    "\n",
    "def sqaure(size):\n",
    "    for i in range(4):\n",
    "        t.forward(size)\n",
    "        t.right(90)\n",
    "sqaure(143)\n",
    "sqaure(124)\n",
    "sqaure(92)\n",
    "sqaure(76)\n",
    "sqaure(56)\n",
    "sqaure(36)\n",
    "sqaure(16)\n",
    "  "
   ]
  },
  {
   "cell_type": "markdown",
   "id": "6aeae09e",
   "metadata": {},
   "source": [
    "# python statistics module \n",
    "- used to calculated mathematical statistics numericals data\n",
    "- mean\n",
    "- median \n",
    "- mode \n",
    "- variance"
   ]
  },
  {
   "cell_type": "code",
   "execution_count": 2,
   "id": "11465f7c",
   "metadata": {},
   "outputs": [
    {
     "data": {
      "text/plain": [
       "[1, 2, 3, 4, 5, 6, 7, 8, 9, 10, 11, 12, 13, 14, 15, 16, 17, 18, 19, 20]"
      ]
     },
     "execution_count": 2,
     "metadata": {},
     "output_type": "execute_result"
    }
   ],
   "source": [
    "import statistics as st\n",
    "l1 = list(range(1,21))\n",
    "l1"
   ]
  },
  {
   "cell_type": "code",
   "execution_count": 6,
   "id": "d6e6ab05",
   "metadata": {},
   "outputs": [
    {
     "name": "stdout",
     "output_type": "stream",
     "text": [
      "10.5\n",
      "10.5\n"
     ]
    }
   ],
   "source": [
    "# mean\n",
    "print(st.mean(l1))\n",
    "print(sum(l1)/len(l1))\n",
    "\n"
   ]
  },
  {
   "cell_type": "code",
   "execution_count": 9,
   "id": "f42b23a7",
   "metadata": {},
   "outputs": [
    {
     "name": "stdout",
     "output_type": "stream",
     "text": [
      "10.5\n"
     ]
    }
   ],
   "source": [
    "# meadian \n",
    "print(st.median(l1))"
   ]
  },
  {
   "cell_type": "code",
   "execution_count": 14,
   "id": "bd2e73e6",
   "metadata": {},
   "outputs": [
    {
     "name": "stdout",
     "output_type": "stream",
     "text": [
      "3\n"
     ]
    }
   ],
   "source": [
    "# mode \n",
    "l = (1,3,4,5,6,5,54,4,4,3,33,3,32)\n",
    "print(st.mode(l))"
   ]
  },
  {
   "cell_type": "code",
   "execution_count": 15,
   "id": "c42a3935",
   "metadata": {},
   "outputs": [
    {
     "name": "stdout",
     "output_type": "stream",
     "text": [
      "35.0\n"
     ]
    }
   ],
   "source": [
    "# veriennce \n",
    "print(st.variance(l1))"
   ]
  },
  {
   "cell_type": "markdown",
   "id": "141204e4",
   "metadata": {},
   "source": [
    "# random variable\n"
   ]
  },
  {
   "cell_type": "code",
   "execution_count": 17,
   "id": "f846a2f8",
   "metadata": {},
   "outputs": [
    {
     "data": {
      "text/plain": [
       "0.26035467708249793"
      ]
     },
     "execution_count": 17,
     "metadata": {},
     "output_type": "execute_result"
    }
   ],
   "source": [
    "import random as rd\n",
    "rd.random()\n"
   ]
  },
  {
   "cell_type": "code",
   "execution_count": 19,
   "id": "a99d1f99",
   "metadata": {},
   "outputs": [
    {
     "name": "stdout",
     "output_type": "stream",
     "text": [
      "6\n"
     ]
    }
   ],
   "source": [
    "# randint()\n",
    "print(rd.randint(1,11))"
   ]
  },
  {
   "cell_type": "code",
   "execution_count": 23,
   "id": "05e4e3fc",
   "metadata": {},
   "outputs": [
    {
     "name": "stdout",
     "output_type": "stream",
     "text": [
      "[4, 3, 1, 2, 5]\n"
     ]
    }
   ],
   "source": [
    "l = [1,2,3,4,5]\n",
    "rd.shuffle(l)\n",
    "print(l)"
   ]
  },
  {
   "cell_type": "markdown",
   "id": "63e36aa6",
   "metadata": {},
   "source": [
    "# Numpy"
   ]
  },
  {
   "cell_type": "code",
   "execution_count": 25,
   "id": "c299633f",
   "metadata": {},
   "outputs": [
    {
     "name": "stdout",
     "output_type": "stream",
     "text": [
      "1\n",
      "<class 'numpy.ndarray'>\n"
     ]
    }
   ],
   "source": [
    "import numpy as np \n",
    "l = [1,2,3,4,5]\n",
    "arr = np.array(1)\n",
    "print(1)\n",
    "print(type(arr))"
   ]
  },
  {
   "cell_type": "code",
   "execution_count": 26,
   "id": "548e7cc7",
   "metadata": {},
   "outputs": [
    {
     "name": "stdout",
     "output_type": "stream",
     "text": [
      "[1, 2, 3, 4, 5, 6, 7, 8, 9, 10, 11, 12, 13, 14, 15, 16, 17, 18, 19, 20]\n",
      "<class 'list'>\n"
     ]
    }
   ],
   "source": [
    "l = list(range(1,21))\n",
    "print(l)\n",
    "print(type(l))\n",
    "\n"
   ]
  },
  {
   "cell_type": "code",
   "execution_count": 28,
   "id": "e66f8647",
   "metadata": {},
   "outputs": [
    {
     "name": "stdout",
     "output_type": "stream",
     "text": [
      "<class 'numpy.ndarray'>\n"
     ]
    },
    {
     "data": {
      "text/plain": [
       "array([ 1,  2,  3,  4,  5,  6,  7,  8,  9, 10, 11, 12, 13, 14, 15, 16, 17,\n",
       "       18, 19, 20])"
      ]
     },
     "execution_count": 28,
     "metadata": {},
     "output_type": "execute_result"
    }
   ],
   "source": [
    "arr2 = np.arange(1,21)\n",
    "print(type(arr2))\n",
    "arr2"
   ]
  },
  {
   "cell_type": "markdown",
   "id": "c097efbe",
   "metadata": {},
   "source": [
    "# Dimensions in array:"
   ]
  },
  {
   "cell_type": "code",
   "execution_count": 30,
   "id": "395d47c9",
   "metadata": {},
   "outputs": [
    {
     "name": "stdout",
     "output_type": "stream",
     "text": [
      "[1 2 3 4 5]\n"
     ]
    }
   ],
   "source": [
    "# 1 - D \n",
    "import numpy as np\n",
    "arr = np.array([1,2,3,4,5])\n",
    "print(arr)"
   ]
  },
  {
   "cell_type": "code",
   "execution_count": 32,
   "id": "066a5c32",
   "metadata": {},
   "outputs": [
    {
     "name": "stdout",
     "output_type": "stream",
     "text": [
      "[[1 2 3 4]\n",
      " [5 6 7 8]]\n"
     ]
    }
   ],
   "source": [
    "#2-d\n",
    "arr1 = np.array([[1,2,3,4,],[5,6,7,8]])\n",
    "print(arr1)"
   ]
  },
  {
   "cell_type": "code",
   "execution_count": 33,
   "id": "f7b801d7",
   "metadata": {},
   "outputs": [
    {
     "name": "stdout",
     "output_type": "stream",
     "text": [
      "[[[1 2 3]\n",
      "  [3 4 5]]\n",
      "\n",
      " [[5 6 7]\n",
      "  [7 8 9]]]\n"
     ]
    }
   ],
   "source": [
    "#3-d \n",
    "arr2 = np.array([[[1,2,3],[3,4,5]],[[5,6,7],[7,8,9]]])\n",
    "print(arr2)"
   ]
  },
  {
   "cell_type": "code",
   "execution_count": null,
   "id": "4516defb",
   "metadata": {},
   "outputs": [],
   "source": [
    "#4-d \n",
    "arr2 = np.array([[[1,2,3],[3,4,5]],[[5,6,7],[7,8,9]]])\n",
    "print(arr2)"
   ]
  },
  {
   "cell_type": "code",
   "execution_count": 34,
   "id": "5268f0ef",
   "metadata": {},
   "outputs": [
    {
     "name": "stdout",
     "output_type": "stream",
     "text": [
      "4\n"
     ]
    }
   ],
   "source": [
    "# access this elements\n",
    "# 1 - D \n",
    "import numpy as np\n",
    "arr = np.array([1,2,3,4,5])\n",
    "print(arr[3])"
   ]
  },
  {
   "cell_type": "code",
   "execution_count": 36,
   "id": "bcb9d155",
   "metadata": {},
   "outputs": [
    {
     "name": "stdout",
     "output_type": "stream",
     "text": [
      "6\n"
     ]
    }
   ],
   "source": [
    "#2-d\n",
    "arr1 = np.array([[1,2,3,4,],[5,6,7,8]])\n",
    "print(arr1[1,1])"
   ]
  },
  {
   "cell_type": "code",
   "execution_count": 48,
   "id": "1b60b833",
   "metadata": {},
   "outputs": [
    {
     "name": "stdout",
     "output_type": "stream",
     "text": [
      "5\n"
     ]
    }
   ],
   "source": [
    "#3-d \n",
    "arr2 = np.array([[[1,2,3],[3,4,5]],[[5,6,7],[7,8,9]]])\n",
    "print(arr2[1,0,0])"
   ]
  },
  {
   "cell_type": "code",
   "execution_count": 43,
   "id": "f7bb9a79",
   "metadata": {},
   "outputs": [
    {
     "name": "stdout",
     "output_type": "stream",
     "text": [
      "8\n"
     ]
    }
   ],
   "source": [
    "#2-d\n",
    "arr1 = np.array([[1,2,3,4],[5,6,7,8]])\n",
    "print(arr1[1,3])"
   ]
  },
  {
   "cell_type": "code",
   "execution_count": 51,
   "id": "ba163e27",
   "metadata": {},
   "outputs": [
    {
     "name": "stdout",
     "output_type": "stream",
     "text": [
      "1\n",
      "[0.9111332  0.04497736 0.66688293 0.51063494]\n"
     ]
    }
   ],
   "source": [
    "from numpy import random\n",
    "print(random.randint(4))\n",
    "print(random.rand(4))\n"
   ]
  },
  {
   "cell_type": "code",
   "execution_count": 53,
   "id": "76fff24f",
   "metadata": {},
   "outputs": [
    {
     "name": "stdout",
     "output_type": "stream",
     "text": [
      "[30 74 51]\n",
      "[[11 25 42 36]\n",
      " [93 52 75  2]]\n",
      "[[[21 69]\n",
      "  [83 29]\n",
      "  [72 64]\n",
      "  [49 11]]\n",
      "\n",
      " [[59 77]\n",
      "  [ 6 49]\n",
      "  [71  1]\n",
      "  [21 20]]\n",
      "\n",
      " [[57 17]\n",
      "  [39 94]\n",
      "  [41 80]\n",
      "  [85 98]]]\n"
     ]
    }
   ],
   "source": [
    "#  create n -dimensional array with random interger value\n",
    "print(random.randint(100,size =3))\n",
    "print(random.randint(100,size =(2,4)))\n",
    "print(random.randint(100,size =(3,4,2)))\n"
   ]
  },
  {
   "cell_type": "code",
   "execution_count": 54,
   "id": "8d871b8a",
   "metadata": {},
   "outputs": [
    {
     "name": "stdout",
     "output_type": "stream",
     "text": [
      "[0.37357891 0.97448224]\n",
      "[[0.32530036 0.07693263 0.74911731 0.9929687 ]\n",
      " [0.64641406 0.17066464 0.73810902 0.29256823]]\n",
      "[[[0.05549625 0.50649641 0.08931596 0.07297011]\n",
      "  [0.94230065 0.58689349 0.70949146 0.46305397]\n",
      "  [0.00273602 0.26710992 0.79958944 0.16589289]\n",
      "  [0.81474628 0.83516806 0.58423818 0.48356439]]\n",
      "\n",
      " [[0.83285555 0.08095286 0.11581048 0.56763443]\n",
      "  [0.81079399 0.58275333 0.89435463 0.27368922]\n",
      "  [0.23745044 0.75666626 0.52315347 0.51994384]\n",
      "  [0.8410452  0.34828557 0.27225893 0.58100724]]\n",
      "\n",
      " [[0.72166052 0.33439068 0.36523909 0.05782421]\n",
      "  [0.93164189 0.62881468 0.29151408 0.87488553]\n",
      "  [0.65795205 0.79554896 0.39873842 0.60704963]\n",
      "  [0.28571366 0.75881711 0.06401892 0.71962268]]]\n"
     ]
    }
   ],
   "source": [
    "#  create n -dimensional array with random decimal value\n",
    "print(random.rand(2))\n",
    "print(random.rand(2,4))\n",
    "print(random.rand(3,4,4))\n"
   ]
  },
  {
   "cell_type": "markdown",
   "id": "cefea263",
   "metadata": {},
   "source": [
    "# pandas module:\n",
    " - use to work with datasets"
   ]
  },
  {
   "cell_type": "code",
   "execution_count": 56,
   "id": "db81fc45",
   "metadata": {},
   "outputs": [
    {
     "data": {
      "text/html": [
       "<div>\n",
       "<style scoped>\n",
       "    .dataframe tbody tr th:only-of-type {\n",
       "        vertical-align: middle;\n",
       "    }\n",
       "\n",
       "    .dataframe tbody tr th {\n",
       "        vertical-align: top;\n",
       "    }\n",
       "\n",
       "    .dataframe thead th {\n",
       "        text-align: right;\n",
       "    }\n",
       "</style>\n",
       "<table border=\"1\" class=\"dataframe\">\n",
       "  <thead>\n",
       "    <tr style=\"text-align: right;\">\n",
       "      <th></th>\n",
       "      <th>first</th>\n",
       "      <th>second</th>\n",
       "    </tr>\n",
       "  </thead>\n",
       "  <tbody>\n",
       "    <tr>\n",
       "      <th>a</th>\n",
       "      <td>1</td>\n",
       "      <td>4</td>\n",
       "    </tr>\n",
       "    <tr>\n",
       "      <th>b</th>\n",
       "      <td>2</td>\n",
       "      <td>5</td>\n",
       "    </tr>\n",
       "    <tr>\n",
       "      <th>c</th>\n",
       "      <td>3</td>\n",
       "      <td>6</td>\n",
       "    </tr>\n",
       "  </tbody>\n",
       "</table>\n",
       "</div>"
      ],
      "text/plain": [
       "  first second\n",
       "a     1      4\n",
       "b     2      5\n",
       "c     3      6"
      ]
     },
     "execution_count": 56,
     "metadata": {},
     "output_type": "execute_result"
    }
   ],
   "source": [
    "import pandas as pd\n",
    "d1 = {\"a\":\"1\",\"b\":\"2\",\"c\":\"3\"}\n",
    "d2 = {\"a\":\"4\",\"b\":\"5\",\"c\":\"6\"}\n",
    "data ={\"first\":d1,\"second\":d2}\n",
    "df = pd.DataFrame(data)\n",
    "df"
   ]
  },
  {
   "cell_type": "code",
   "execution_count": 57,
   "id": "1596a16e",
   "metadata": {},
   "outputs": [
    {
     "data": {
      "text/html": [
       "<div>\n",
       "<style scoped>\n",
       "    .dataframe tbody tr th:only-of-type {\n",
       "        vertical-align: middle;\n",
       "    }\n",
       "\n",
       "    .dataframe tbody tr th {\n",
       "        vertical-align: top;\n",
       "    }\n",
       "\n",
       "    .dataframe thead th {\n",
       "        text-align: right;\n",
       "    }\n",
       "</style>\n",
       "<table border=\"1\" class=\"dataframe\">\n",
       "  <thead>\n",
       "    <tr style=\"text-align: right;\">\n",
       "      <th></th>\n",
       "      <th>Name</th>\n",
       "      <th>Address</th>\n",
       "    </tr>\n",
       "  </thead>\n",
       "  <tbody>\n",
       "    <tr>\n",
       "      <th>0</th>\n",
       "      <td>ramsai</td>\n",
       "      <td>vizag</td>\n",
       "    </tr>\n",
       "    <tr>\n",
       "      <th>1</th>\n",
       "      <td>darling</td>\n",
       "      <td>gpm</td>\n",
       "    </tr>\n",
       "    <tr>\n",
       "      <th>2</th>\n",
       "      <td>baby</td>\n",
       "      <td>vzkp</td>\n",
       "    </tr>\n",
       "  </tbody>\n",
       "</table>\n",
       "</div>"
      ],
      "text/plain": [
       "      Name Address\n",
       "0   ramsai   vizag\n",
       "1  darling     gpm\n",
       "2     baby    vzkp"
      ]
     },
     "execution_count": 57,
     "metadata": {},
     "output_type": "execute_result"
    }
   ],
   "source": [
    "d = {\"Name\":[\"ramsai\",\"darling\",\"baby\"],\"Address\":[\"vizag\",\"gpm\",\"vzkp\"]}\n",
    "df = pd.DataFrame(d)\n",
    "df"
   ]
  },
  {
   "cell_type": "code",
   "execution_count": 69,
   "id": "06f1a167",
   "metadata": {},
   "outputs": [
    {
     "data": {
      "text/html": [
       "<div>\n",
       "<style scoped>\n",
       "    .dataframe tbody tr th:only-of-type {\n",
       "        vertical-align: middle;\n",
       "    }\n",
       "\n",
       "    .dataframe tbody tr th {\n",
       "        vertical-align: top;\n",
       "    }\n",
       "\n",
       "    .dataframe thead th {\n",
       "        text-align: right;\n",
       "    }\n",
       "</style>\n",
       "<table border=\"1\" class=\"dataframe\">\n",
       "  <thead>\n",
       "    <tr style=\"text-align: right;\">\n",
       "      <th></th>\n",
       "      <th>columns1</th>\n",
       "      <th>column2</th>\n",
       "      <th>column1</th>\n",
       "    </tr>\n",
       "  </thead>\n",
       "  <tbody>\n",
       "    <tr>\n",
       "      <th>0</th>\n",
       "      <td>a</td>\n",
       "      <td>1.0</td>\n",
       "      <td>1</td>\n",
       "    </tr>\n",
       "    <tr>\n",
       "      <th>1</th>\n",
       "      <td>b</td>\n",
       "      <td>2.0</td>\n",
       "      <td>1</td>\n",
       "    </tr>\n",
       "    <tr>\n",
       "      <th>2</th>\n",
       "      <td>c</td>\n",
       "      <td>3.0</td>\n",
       "      <td>1</td>\n",
       "    </tr>\n",
       "    <tr>\n",
       "      <th>3</th>\n",
       "      <td>d</td>\n",
       "      <td>4.0</td>\n",
       "      <td>2</td>\n",
       "    </tr>\n",
       "    <tr>\n",
       "      <th>4</th>\n",
       "      <td>e</td>\n",
       "      <td>5.0</td>\n",
       "      <td>2</td>\n",
       "    </tr>\n",
       "    <tr>\n",
       "      <th>5</th>\n",
       "      <td>NaN</td>\n",
       "      <td>NaN</td>\n",
       "      <td>3</td>\n",
       "    </tr>\n",
       "    <tr>\n",
       "      <th>6</th>\n",
       "      <td>NaN</td>\n",
       "      <td>NaN</td>\n",
       "      <td>4</td>\n",
       "    </tr>\n",
       "    <tr>\n",
       "      <th>7</th>\n",
       "      <td>NaN</td>\n",
       "      <td>NaN</td>\n",
       "      <td>5</td>\n",
       "    </tr>\n",
       "    <tr>\n",
       "      <th>8</th>\n",
       "      <td>NaN</td>\n",
       "      <td>NaN</td>\n",
       "      <td>5</td>\n",
       "    </tr>\n",
       "  </tbody>\n",
       "</table>\n",
       "</div>"
      ],
      "text/plain": [
       "  columns1  column2  column1\n",
       "0        a      1.0        1\n",
       "1        b      2.0        1\n",
       "2        c      3.0        1\n",
       "3        d      4.0        2\n",
       "4        e      5.0        2\n",
       "5      NaN      NaN        3\n",
       "6      NaN      NaN        4\n",
       "7      NaN      NaN        5\n",
       "8      NaN      NaN        5"
      ]
     },
     "execution_count": 69,
     "metadata": {},
     "output_type": "execute_result"
    }
   ],
   "source": [
    "# Series \n",
    "s1 = pd.Series([1,2,3,4,5])\n",
    "s2 = pd.Series([1,1,1,2,2,3,4,5,5])\n",
    "s3 = pd.Series([\"a\",\"b\",\"c\",\"d\",\"e\"])\n",
    "data = {\"columns1\":s3,\"column2\":s1,\"column1\":s2}\n",
    "df = pd.DataFrame(data)\n",
    "df"
   ]
  },
  {
   "cell_type": "markdown",
   "id": "e35d58ca",
   "metadata": {},
   "source": [
    "# select data from DataFrame:"
   ]
  },
  {
   "cell_type": "code",
   "execution_count": 73,
   "id": "a397754a",
   "metadata": {},
   "outputs": [
    {
     "data": {
      "text/plain": [
       "0      a\n",
       "1      b\n",
       "2      c\n",
       "3      d\n",
       "4      e\n",
       "5    NaN\n",
       "6    NaN\n",
       "7    NaN\n",
       "8    NaN\n",
       "Name: columns1, dtype: object"
      ]
     },
     "execution_count": 73,
     "metadata": {},
     "output_type": "execute_result"
    }
   ],
   "source": [
    "df[\"columns1\"]"
   ]
  },
  {
   "cell_type": "code",
   "execution_count": 74,
   "id": "573e3b9b",
   "metadata": {},
   "outputs": [
    {
     "data": {
      "text/plain": [
       "columns1      b\n",
       "column2     2.0\n",
       "column1       1\n",
       "Name: 1, dtype: object"
      ]
     },
     "execution_count": 74,
     "metadata": {},
     "output_type": "execute_result"
    }
   ],
   "source": [
    "df.iloc[1]"
   ]
  },
  {
   "cell_type": "code",
   "execution_count": 75,
   "id": "10d89bb2",
   "metadata": {},
   "outputs": [
    {
     "data": {
      "text/html": [
       "<div>\n",
       "<style scoped>\n",
       "    .dataframe tbody tr th:only-of-type {\n",
       "        vertical-align: middle;\n",
       "    }\n",
       "\n",
       "    .dataframe tbody tr th {\n",
       "        vertical-align: top;\n",
       "    }\n",
       "\n",
       "    .dataframe thead th {\n",
       "        text-align: right;\n",
       "    }\n",
       "</style>\n",
       "<table border=\"1\" class=\"dataframe\">\n",
       "  <thead>\n",
       "    <tr style=\"text-align: right;\">\n",
       "      <th></th>\n",
       "      <th>columns1</th>\n",
       "      <th>column2</th>\n",
       "      <th>column1</th>\n",
       "    </tr>\n",
       "  </thead>\n",
       "  <tbody>\n",
       "    <tr>\n",
       "      <th>8</th>\n",
       "      <td>NaN</td>\n",
       "      <td>NaN</td>\n",
       "      <td>5</td>\n",
       "    </tr>\n",
       "    <tr>\n",
       "      <th>3</th>\n",
       "      <td>d</td>\n",
       "      <td>4.0</td>\n",
       "      <td>2</td>\n",
       "    </tr>\n",
       "  </tbody>\n",
       "</table>\n",
       "</div>"
      ],
      "text/plain": [
       "  columns1  column2  column1\n",
       "8      NaN      NaN        5\n",
       "3        d      4.0        2"
      ]
     },
     "execution_count": 75,
     "metadata": {},
     "output_type": "execute_result"
    }
   ],
   "source": [
    "df.sample(2)"
   ]
  },
  {
   "cell_type": "code",
   "execution_count": 78,
   "id": "99d30f91",
   "metadata": {},
   "outputs": [
    {
     "data": {
      "text/html": [
       "<div>\n",
       "<style scoped>\n",
       "    .dataframe tbody tr th:only-of-type {\n",
       "        vertical-align: middle;\n",
       "    }\n",
       "\n",
       "    .dataframe tbody tr th {\n",
       "        vertical-align: top;\n",
       "    }\n",
       "\n",
       "    .dataframe thead th {\n",
       "        text-align: right;\n",
       "    }\n",
       "</style>\n",
       "<table border=\"1\" class=\"dataframe\">\n",
       "  <thead>\n",
       "    <tr style=\"text-align: right;\">\n",
       "      <th></th>\n",
       "      <th>columns1</th>\n",
       "      <th>column2</th>\n",
       "      <th>column1</th>\n",
       "    </tr>\n",
       "  </thead>\n",
       "  <tbody>\n",
       "    <tr>\n",
       "      <th>0</th>\n",
       "      <td>a</td>\n",
       "      <td>1.0</td>\n",
       "      <td>1</td>\n",
       "    </tr>\n",
       "    <tr>\n",
       "      <th>1</th>\n",
       "      <td>b</td>\n",
       "      <td>2.0</td>\n",
       "      <td>1</td>\n",
       "    </tr>\n",
       "    <tr>\n",
       "      <th>2</th>\n",
       "      <td>c</td>\n",
       "      <td>3.0</td>\n",
       "      <td>1</td>\n",
       "    </tr>\n",
       "    <tr>\n",
       "      <th>3</th>\n",
       "      <td>d</td>\n",
       "      <td>4.0</td>\n",
       "      <td>2</td>\n",
       "    </tr>\n",
       "  </tbody>\n",
       "</table>\n",
       "</div>"
      ],
      "text/plain": [
       "  columns1  column2  column1\n",
       "0        a      1.0        1\n",
       "1        b      2.0        1\n",
       "2        c      3.0        1\n",
       "3        d      4.0        2"
      ]
     },
     "execution_count": 78,
     "metadata": {},
     "output_type": "execute_result"
    }
   ],
   "source": [
    "df.head(4)"
   ]
  },
  {
   "cell_type": "code",
   "execution_count": 80,
   "id": "6442f0be",
   "metadata": {},
   "outputs": [
    {
     "data": {
      "text/html": [
       "<div>\n",
       "<style scoped>\n",
       "    .dataframe tbody tr th:only-of-type {\n",
       "        vertical-align: middle;\n",
       "    }\n",
       "\n",
       "    .dataframe tbody tr th {\n",
       "        vertical-align: top;\n",
       "    }\n",
       "\n",
       "    .dataframe thead th {\n",
       "        text-align: right;\n",
       "    }\n",
       "</style>\n",
       "<table border=\"1\" class=\"dataframe\">\n",
       "  <thead>\n",
       "    <tr style=\"text-align: right;\">\n",
       "      <th></th>\n",
       "      <th>columns1</th>\n",
       "      <th>column2</th>\n",
       "      <th>column1</th>\n",
       "    </tr>\n",
       "  </thead>\n",
       "  <tbody>\n",
       "    <tr>\n",
       "      <th>2</th>\n",
       "      <td>c</td>\n",
       "      <td>3.0</td>\n",
       "      <td>1</td>\n",
       "    </tr>\n",
       "    <tr>\n",
       "      <th>3</th>\n",
       "      <td>d</td>\n",
       "      <td>4.0</td>\n",
       "      <td>2</td>\n",
       "    </tr>\n",
       "    <tr>\n",
       "      <th>4</th>\n",
       "      <td>e</td>\n",
       "      <td>5.0</td>\n",
       "      <td>2</td>\n",
       "    </tr>\n",
       "    <tr>\n",
       "      <th>5</th>\n",
       "      <td>NaN</td>\n",
       "      <td>NaN</td>\n",
       "      <td>3</td>\n",
       "    </tr>\n",
       "    <tr>\n",
       "      <th>6</th>\n",
       "      <td>NaN</td>\n",
       "      <td>NaN</td>\n",
       "      <td>4</td>\n",
       "    </tr>\n",
       "    <tr>\n",
       "      <th>7</th>\n",
       "      <td>NaN</td>\n",
       "      <td>NaN</td>\n",
       "      <td>5</td>\n",
       "    </tr>\n",
       "    <tr>\n",
       "      <th>8</th>\n",
       "      <td>NaN</td>\n",
       "      <td>NaN</td>\n",
       "      <td>5</td>\n",
       "    </tr>\n",
       "  </tbody>\n",
       "</table>\n",
       "</div>"
      ],
      "text/plain": [
       "  columns1  column2  column1\n",
       "2        c      3.0        1\n",
       "3        d      4.0        2\n",
       "4        e      5.0        2\n",
       "5      NaN      NaN        3\n",
       "6      NaN      NaN        4\n",
       "7      NaN      NaN        5\n",
       "8      NaN      NaN        5"
      ]
     },
     "execution_count": 80,
     "metadata": {},
     "output_type": "execute_result"
    }
   ],
   "source": [
    "df.tail(7)"
   ]
  },
  {
   "cell_type": "markdown",
   "id": "d4409524",
   "metadata": {},
   "source": [
    "# matplotlit\n",
    "- used to draw graph "
   ]
  },
  {
   "cell_type": "code",
   "execution_count": 84,
   "id": "75fcdb74",
   "metadata": {},
   "outputs": [
    {
     "data": {
      "image/png": "[encoded data removed]",
      "text/plain": [
       "<Figure size 432x288 with 1 Axes>"
      ]
     },
     "metadata": {
      "needs_background": "light"
     },
     "output_type": "display_data"
    }
   ],
   "source": [
    "import matplotlib.pyplot as plt\n",
    "import numpy as np\n",
    "x = np.array([1,3,5,8])\n",
    "y = np.array([4,6,8,9,])\n",
    "\n",
    "plt.title(\"graph\")\n",
    "plt.xlabel(\"x axis\")\n",
    "plt.ylabel(\"y axis\")\n",
    "plt.plot(x,y)\n",
    "plt.show()\n"
   ]
  },
  {
   "cell_type": "code",
   "execution_count": 86,
   "id": "bcd603f9",
   "metadata": {},
   "outputs": [
    {
     "data": {
      "text/plain": [
       "[<matplotlib.lines.Line2D at 0x176005a8940>]"
      ]
     },
     "execution_count": 86,
     "metadata": {},
     "output_type": "execute_result"
    },
    {
     "data": {
      "image/png": "[encoded data removed]",
      "text/plain": [
       "<Figure size 432x288 with 4 Axes>"
      ]
     },
     "metadata": {
      "needs_background": "light"
     },
     "output_type": "display_data"
    }
   ],
   "source": [
    "# plot1\n",
    "x = np.array([1,3,5,8])\n",
    "y = np.array([4,6,8,9])\n",
    "plt.subplot(2,3,4)\n",
    "plt.plot(x,y)\n",
    "# plot2\n",
    "x = np.array([1,3,5,8])\n",
    "y = np.array([4,6,8,9])\n",
    "plt.subplot(2,5,7)\n",
    "plt.plot(x,y)\n",
    "# plot3\n",
    "x = np.array([1,3,5,8])\n",
    "y = np.array([4,6,8,9])\n",
    "plt.subplot(2,5,2)\n",
    "plt.plot(x,y)\n",
    "# plot4\n",
    "x = np.array([1,3,5,8])\n",
    "y = np.array([4,6,8,9])\n",
    "plt.subplot(2,8,2)\n",
    "plt.plot(x,y)\n",
    "# plo5\n",
    "x = np.array([1,3,5,8])\n",
    "y = np.array([4,6,8,9])\n",
    "plt.subplot(7,4,3)\n",
    "plt.plot(x,y)\n",
    "# plot6\n",
    "x = np.array([1,3,5,8])\n",
    "y = np.array([4,6,8,9])\n",
    "plt.subplot(5,8,4)\n",
    "plt.plot(x,y)"
   ]
  },
  {
   "cell_type": "code",
   "execution_count": null,
   "id": "84de4b14",
   "metadata": {},
   "outputs": [],
   "source": []
  },
  {
   "cell_type": "code",
   "execution_count": null,
   "id": "ba1e588e",
   "metadata": {},
   "outputs": [],
   "source": []
  },
  {
   "cell_type": "code",
   "execution_count": null,
   "id": "d864be4d",
   "metadata": {},
   "outputs": [],
   "source": []
  }
 ],
 "metadata": {
  "kernelspec": {
   "display_name": "Python 3",
   "language": "python",
   "name": "python3"
  },
  "language_info": {
   "codemirror_mode": {
    "name": "ipython",
    "version": 3
   },
   "file_extension": ".py",
   "mimetype": "text/x-python",
   "name": "python",
   "nbconvert_exporter": "python",
   "pygments_lexer": "ipython3",
   "version": "3.8.8"
  }
 },
 "nbformat": 4,
 "nbformat_minor": 5
}
