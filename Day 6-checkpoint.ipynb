{
 "cells": [
  {
   "cell_type": "markdown",
   "id": "2e21b887",
   "metadata": {},
   "source": [
    "# Python Operators\n",
    "- To perfom operation on variables and values"
   ]
  },
  {
   "cell_type": "markdown",
   "id": "b4072842",
   "metadata": {},
   "source": [
    "# "
   ]
  },
  {
   "cell_type": "code",
   "execution_count": 4,
   "id": "6e637b7d",
   "metadata": {},
   "outputs": [
    {
     "name": "stdout",
     "output_type": "stream",
     "text": [
      "15\n",
      "5\n",
      "50\n",
      "2.0\n",
      "0\n",
      "100000\n",
      "2\n"
     ]
    }
   ],
   "source": [
    "x=10 \n",
    "y=5\n",
    "print(x+y)\n",
    "print(x-y)\n",
    "print(x*y)\n",
    "print(x/y)\n",
    "print(x%y)\n",
    "print(x**y)\n",
    "print(x//y)"
   ]
  },
  {
   "cell_type": "markdown",
   "id": "87d6dbe3",
   "metadata": {},
   "source": [
    "# Assignment Operators:\n",
    "- used to assign values to variables \n",
    "- operators :\n",
    "- **"
   ]
  },
  {
   "cell_type": "code",
   "execution_count": 5,
   "id": "59f93de0",
   "metadata": {},
   "outputs": [
    {
     "name": "stdout",
     "output_type": "stream",
     "text": [
      "7\n",
      "5\n",
      "20\n",
      "10.0\n",
      "0.0\n",
      "625\n",
      "25\n"
     ]
    }
   ],
   "source": [
    "x = 3\n",
    "x += 4 # x = x+4\n",
    "print(x)\n",
    "x -= 2\n",
    "print(x)\n",
    "x *= 4 \n",
    "print(x)\n",
    "x /= 2\n",
    "print(x)\n",
    "x %= 5\n",
    "print(x)\n",
    "x =5 \n",
    "x **=4\n",
    "print(x)\n",
    "x//= 25\n",
    "print(x)"
   ]
  },
  {
   "cell_type": "markdown",
   "id": "b63bf462",
   "metadata": {},
   "source": [
    "# comparision operations \n",
    "- used to compare values "
   ]
  },
  {
   "cell_type": "code",
   "execution_count": 7,
   "id": "e86d11eb",
   "metadata": {},
   "outputs": [
    {
     "name": "stdout",
     "output_type": "stream",
     "text": [
      "False\n",
      "True\n",
      "True\n",
      "False\n",
      "True\n",
      "False\n"
     ]
    }
   ],
   "source": [
    "x = 5 \n",
    "y = 10 \n",
    "print(x==y)\n",
    "print(x!=y)\n",
    "print(x<y)\n",
    "print(x>y)\n",
    "print(x<=y)\n",
    "print(x>=y)\n"
   ]
  },
  {
   "cell_type": "markdown",
   "id": "2ed809fe",
   "metadata": {},
   "source": [
    "# logical operatorsp:\n",
    "- used to campare conditional statements\n",
    "- operations :\n",
    "      - **and**\n",
    "      - **or**\n",
    "      - **not**"
   ]
  },
  {
   "cell_type": "code",
   "execution_count": 18,
   "id": "5eac3b91",
   "metadata": {},
   "outputs": [
    {
     "name": "stdout",
     "output_type": "stream",
     "text": [
      "True\n",
      "True\n",
      "False\n"
     ]
    }
   ],
   "source": [
    " x=4\n",
    "print(x>3 and x<7)\n",
    "print(x>3 or x<7)\n",
    "print(not(x<3 or x<7))"
   ]
  },
  {
   "cell_type": "markdown",
   "id": "2341ece4",
   "metadata": {},
   "source": [
    "# identity operators:\n",
    "- used to compare objects\n",
    "   - operators \n",
    "   - is \n",
    "   - is not"
   ]
  },
  {
   "cell_type": "code",
   "execution_count": 19,
   "id": "a99c60cf",
   "metadata": {},
   "outputs": [
    {
     "name": "stdout",
     "output_type": "stream",
     "text": [
      "False\n",
      "True\n",
      "True\n",
      "False\n",
      "True\n"
     ]
    }
   ],
   "source": [
    "a = 5\n",
    "b = 6\n",
    "c = 5\n",
    "print(a is b)\n",
    "print(a is not b)\n",
    "print(a is c)\n",
    "print(a is not c)\n",
    "print(a is c is not b)"
   ]
  },
  {
   "cell_type": "markdown",
   "id": "ed488439",
   "metadata": {},
   "source": [
    "# Membership operators:\n",
    "- used to test given sequences is presentation in object\n",
    "- operators:\n",
    "    - in\n",
    "    - not in"
   ]
  },
  {
   "cell_type": "code",
   "execution_count": 22,
   "id": "5b4da6cb",
   "metadata": {},
   "outputs": [
    {
     "name": "stdout",
     "output_type": "stream",
     "text": [
      "False\n",
      "True\n",
      "False\n",
      "True\n"
     ]
    }
   ],
   "source": [
    "a = \"ramsai\"\n",
    "print(\"y\" in a)\n",
    "print(\"s\" in a)\n",
    "print(\"rm\" in a)\n",
    "print(\"yww\" not in a)"
   ]
  },
  {
   "cell_type": "markdown",
   "id": "593b09af",
   "metadata": {},
   "source": [
    "# Control flow Statements:\n",
    "- conditional statements \n",
    "   - if-eles statements \n",
    "- Looping statements \n",
    "    - while loop statement\n",
    "    - FOR loop statements"
   ]
  },
  {
   "cell_type": "markdown",
   "id": "6b30cd65",
   "metadata": {},
   "source": [
    "# IF - ELSE STATEMENTS:"
   ]
  },
  {
   "cell_type": "code",
   "execution_count": 23,
   "id": "90adaf9f",
   "metadata": {},
   "outputs": [
    {
     "ename": "SyntaxError",
     "evalue": "invalid syntax (Temp/ipykernel_3984/609016587.py, line 2)",
     "output_type": "error",
     "traceback": [
      "\u001b[1;36m  File \u001b[1;32m\"C:\\Users\\USER7~1\\AppData\\Local\\Temp/ipykernel_3984/609016587.py\"\u001b[1;36m, line \u001b[1;32m2\u001b[0m\n\u001b[1;33m    if boolean condition:\u001b[0m\n\u001b[1;37m               ^\u001b[0m\n\u001b[1;31mSyntaxError\u001b[0m\u001b[1;31m:\u001b[0m invalid syntax\n"
     ]
    }
   ],
   "source": [
    "#syntax :\n",
    "if boolean condition:\n",
    "     statements\n",
    "elif:\n",
    "    ststement\n",
    "eles:\n",
    "    statement\n"
   ]
  },
  {
   "cell_type": "code",
   "execution_count": 31,
   "id": "7a2df27d",
   "metadata": {},
   "outputs": [
    {
     "name": "stdout",
     "output_type": "stream",
     "text": [
      "enter a number :5\n",
      "odd number\n"
     ]
    }
   ],
   "source": [
    "# check given number is even or odd \n",
    "n = int(input(\"enter a number :\"))\n",
    "if n %2 ==0:\n",
    "    print(\"even number\")\n",
    "else:\n",
    "     print(\"odd number\")\n",
    "        "
   ]
  },
  {
   "cell_type": "code",
   "execution_count": 38,
   "id": "ec5ff845",
   "metadata": {},
   "outputs": [
    {
     "name": "stdout",
     "output_type": "stream",
     "text": [
      "enter a number :45\n",
      "Yes\n"
     ]
    }
   ],
   "source": [
    "# check given multiples of the both 3 and 5 \n",
    "n=int(input(\"enter a number :\"))\n",
    "if n%3==0 and n%5==0:\n",
    "     print(\"Yes\")\n",
    "else:\n",
    "    print(\"No\")"
   ]
  },
  {
   "cell_type": "code",
   "execution_count": 45,
   "id": "3271d68e",
   "metadata": {},
   "outputs": [
    {
     "name": "stdout",
     "output_type": "stream",
     "text": [
      "enter a number) :0\n",
      "zero\n"
     ]
    }
   ],
   "source": [
    "# check given number positive ,negative ,or zero\n",
    "n = int(input(\"enter a number) :\"))\n",
    "if n>0:\n",
    "     print(\"positive\")\n",
    "elif n<0:\n",
    "     print(\"negative\")\n",
    "else:\n",
    "     print(\"zero\")"
   ]
  },
  {
   "cell_type": "code",
   "execution_count": 51,
   "id": "cf788781",
   "metadata": {},
   "outputs": [
    {
     "name": "stdout",
     "output_type": "stream",
     "text": [
      "enter a number :10\n",
      "enter a number :55\n",
      "enter a number :21\n",
      "55\n"
     ]
    }
   ],
   "source": [
    "# find the large number in 3 inputs\n",
    "a = int(input(\"enter a number :\"))\n",
    "b = int(input(\"enter a number :\"))\n",
    "c = int(input(\"enter a number :\"))\n",
    "if a>b or a>c:\n",
    "    print(a)\n",
    "elif b>a or b>c:\n",
    "    print(b)\n",
    "else:\n",
    "    print(c)\n",
    "    "
   ]
  },
  {
   "cell_type": "code",
   "execution_count": 61,
   "id": "b5239f07",
   "metadata": {},
   "outputs": [
    {
     "name": "stdout",
     "output_type": "stream",
     "text": [
      "enter a number :81\n",
      "A grade\n"
     ]
    }
   ],
   "source": [
    "# finding grading \n",
    "n = int(input(\"enter a number :\"))\n",
    "if n<25:\n",
    "    print(\"F grade\")\n",
    "elif n<=45:\n",
    "    print(\" E grade\")\n",
    "elif n<=50:\n",
    "    print(\" D grade\")\n",
    "elif n<=60:\n",
    "    print(\" c grade\")\n",
    "elif n<=80:\n",
    "    print(\" B grade\")\n",
    "else:\n",
    "    print(\"A grade\")"
   ]
  },
  {
   "cell_type": "code",
   "execution_count": 62,
   "id": "f5966742",
   "metadata": {},
   "outputs": [
    {
     "name": "stdout",
     "output_type": "stream",
     "text": [
      "AA\n",
      "AA\n",
      "AA\n",
      "AA\n",
      "AA\n",
      "AA\n",
      "AA\n",
      "AA\n"
     ]
    }
   ],
   "source": [
    "i = 0\n",
    "while i <8:\n",
    "    print(\"AA\")\n",
    "    i =i+1"
   ]
  },
  {
   "cell_type": "code",
   "execution_count": 67,
   "id": "2b333288",
   "metadata": {},
   "outputs": [
    {
     "name": "stdout",
     "output_type": "stream",
     "text": [
      "0\n",
      "1\n",
      "2\n",
      "3\n",
      "4\n",
      "5\n",
      "6\n",
      "7\n",
      "8\n",
      "9\n",
      "10\n"
     ]
    }
   ],
   "source": [
    "# print 1 to 10 numbers\n",
    "i = 0\n",
    "while i<=10:\n",
    "    print(i)\n",
    "    i=i+1"
   ]
  },
  {
   "cell_type": "code",
   "execution_count": 77,
   "id": "a20584bb",
   "metadata": {},
   "outputs": [
    {
     "name": "stdout",
     "output_type": "stream",
     "text": [
      "2 4 6 8 10 "
     ]
    }
   ],
   "source": [
    "# print even numbers 1 to 10\n",
    "i=1\n",
    "while i<=10:\n",
    "    if i%2==0:\n",
    "         print(i,end=\" \")\n",
    "    i=i+1\n",
    "     \n"
   ]
  },
  {
   "cell_type": "code",
   "execution_count": 1,
   "id": "b1c5d96e",
   "metadata": {},
   "outputs": [
    {
     "name": "stdout",
     "output_type": "stream",
     "text": [
      "6\n",
      "1 2 3 6 "
     ]
    }
   ],
   "source": [
    "# input of 6 \n",
    "i=1\n",
    "n=int(input())\n",
    "while i<=n:\n",
    "    if n%i ==0:\n",
    "        print(i,end =' ')\n",
    "    i =i+1"
   ]
  },
  {
   "cell_type": "code",
   "execution_count": 2,
   "id": "855da284",
   "metadata": {},
   "outputs": [
    {
     "name": "stdout",
     "output_type": "stream",
     "text": [
      "12\n",
      "1 2 3 4 6 12 "
     ]
    }
   ],
   "source": [
    "# input of 12\n",
    "i=1\n",
    "n=int(input())\n",
    "while i<=n:\n",
    "    if n%i ==0:\n",
    "        print(i,end =' ')\n",
    "    i =i+1"
   ]
  }
 ],
 "metadata": {
  "kernelspec": {
   "display_name": "Python 3 (ipykernel)",
   "language": "python",
   "name": "python3"
  },
  "language_info": {
   "codemirror_mode": {
    "name": "ipython",
    "version": 3
   },
   "file_extension": ".py",
   "mimetype": "text/x-python",
   "name": "python",
   "nbconvert_exporter": "python",
   "pygments_lexer": "ipython3",
   "version": "3.9.7"
  }
 },
 "nbformat": 4,
 "nbformat_minor": 5
}
